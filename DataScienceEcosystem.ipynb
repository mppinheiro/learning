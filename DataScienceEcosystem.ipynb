{
 "cells": [
  {
   "cell_type": "markdown",
   "id": "757074d0-f8bd-44ae-ba56-defd079b9873",
   "metadata": {},
   "source": [
    "# Data Science Tools and Ecosystem"
   ]
  },
  {
   "cell_type": "markdown",
   "id": "e2c203ed-aceb-4b82-995e-4161c8f2b9f3",
   "metadata": {},
   "source": [
    "### In this notebook, Data Science Tools and Ecosystem are summarized."
   ]
  },
  {
   "cell_type": "markdown",
   "id": "a8206e2d-1600-4288-989e-5d351d07edf4",
   "metadata": {},
   "source": [
    "__Objectives__\n",
    "+ List popular languages and libraries for Data Science\n",
    "+ List popular development environments for Data Science\n",
    "+ Give examples of how to evaluate arithmetic expressions in Python"
   ]
  },
  {
   "cell_type": "markdown",
   "id": "966efed3-090e-4b62-8dfd-46e45a02dc4c",
   "metadata": {},
   "source": [
    "Some of the popular languages that Data Scientists use are:\n",
    "1. R\n",
    "2. Python\n",
    "3. Julia"
   ]
  },
  {
   "cell_type": "markdown",
   "id": "df8ce88b-f142-4c96-b7f9-15142a199439",
   "metadata": {},
   "source": [
    "Some of the libraries commonly used by Data Scientists include:\n",
    "1. Pandas\n",
    "2. Scikit-learn\n",
    "3. Ggplot2"
   ]
  },
  {
   "cell_type": "markdown",
   "id": "96c2a051-70ec-4a06-af3d-ebe53fafff1a",
   "metadata": {},
   "source": [
    "| Data Science Tools\n",
    "| ---\n",
    "| Jupyter\n",
    "| RStudio\n",
    "| Apache Zeppelin"
   ]
  },
  {
   "cell_type": "markdown",
   "id": "d91a9f60-9131-43f8-8a43-7f204d487212",
   "metadata": {},
   "source": [
    "### Below are a few examples of evaluating arithmetic expressions in Python."
   ]
  },
  {
   "cell_type": "code",
   "execution_count": 2,
   "id": "9f34432c-5af8-496d-9973-3a57c9ba69e9",
   "metadata": {},
   "outputs": [
    {
     "data": {
      "text/plain": [
       "17"
      ]
     },
     "execution_count": 2,
     "metadata": {},
     "output_type": "execute_result"
    }
   ],
   "source": [
    "# This a simple arithmetic expression to mutiply then add integers\n",
    "(3*4)+5"
   ]
  },
  {
   "cell_type": "code",
   "execution_count": 3,
   "id": "88435074-6c87-464b-913b-4d0818e6a991",
   "metadata": {},
   "outputs": [
    {
     "data": {
      "text/plain": [
       "3.3333333333333335"
      ]
     },
     "execution_count": 3,
     "metadata": {},
     "output_type": "execute_result"
    }
   ],
   "source": [
    "# This will convert 200 minutes to hours by diving by 60\n",
    "200 / 60"
   ]
  },
  {
   "cell_type": "markdown",
   "id": "746dde8f-506b-4629-b06f-6883138ade27",
   "metadata": {},
   "source": [
    "## Author\n",
    "Marcos Paiva"
   ]
  }
 ],
 "metadata": {
  "kernelspec": {
   "display_name": "Python 3 (ipykernel)",
   "language": "python",
   "name": "python3"
  },
  "language_info": {
   "codemirror_mode": {
    "name": "ipython",
    "version": 3
   },
   "file_extension": ".py",
   "mimetype": "text/x-python",
   "name": "python",
   "nbconvert_exporter": "python",
   "pygments_lexer": "ipython3",
   "version": "3.12.5"
  }
 },
 "nbformat": 4,
 "nbformat_minor": 5
}
