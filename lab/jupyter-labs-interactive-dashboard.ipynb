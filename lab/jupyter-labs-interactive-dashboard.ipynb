{
 "cells": [
  {
   "cell_type": "code",
   "execution_count": 2,
   "id": "8b7c7cb9-11d6-48c7-b593-a4698e7c43f6",
   "metadata": {},
   "outputs": [],
   "source": [
    "# Import required libraries\n",
    "import pandas as pd\n",
    "import dash\n",
    "from dash import html\n",
    "from dash import dcc\n",
    "from dash.dependencies import Input, Output\n",
    "import plotly.express as px"
   ]
  },
  {
   "cell_type": "code",
   "execution_count": 7,
   "id": "11944f95-8a86-4bc6-93f7-f228804ab406",
   "metadata": {},
   "outputs": [],
   "source": [
    "# Read the airline data into pandas dataframe\n",
    "url = \"https://cf-courses-data.s3.us.cloud-object-storage.appdomain.cloud/IBM-DS0321EN-SkillsNetwork/datasets/spacex_launch_dash.csv\"\n",
    "spacex_df = pd.read_csv(url,index_col=0)\n",
    "max_payload = spacex_df['Payload Mass (kg)'].max()\n",
    "min_payload = spacex_df['Payload Mass (kg)'].min()"
   ]
  },
  {
   "cell_type": "code",
   "execution_count": 113,
   "id": "5a0f314f-4df1-417f-8c80-c43f1a680390",
   "metadata": {},
   "outputs": [],
   "source": [
    "# Create a dash application\n",
    "app = dash.Dash(__name__)\n",
    "\n",
    "# Create an app layout\n",
    "app.layout = html.Div(children=[html.H1('SpaceX Launch Records Dashboard',\n",
    "                                        style={'textAlign': 'center', 'color': '#503D36',\n",
    "                                               'font-size': 40}),\n",
    "                                # TASK 1: Add a dropdown list to enable Launch Site selection\n",
    "                                # The default select value is for ALL sites\n",
    "                                  dcc.Dropdown(id='site-dropdown',\n",
    "                options=[\n",
    "                    {'label': 'All Sites', 'value': 'ALL'},\n",
    "                    {'label': 'CCAFS LC-40', 'value': 'CCAFS LC-40'},\n",
    "                    {'label': 'CCAFS SLC-40\t', 'value': 'CCAFS SLC-40'},\n",
    "                    {'label': 'KSC LC-39A', 'value': 'KSC LC-39A'},\n",
    "                    {'label': 'VAFB SLC-4E', 'value': 'VAFB SLC-4E'},\n",
    "                ],\n",
    "                value='ALL',\n",
    "                placeholder=\"Select launch site\",\n",
    "                searchable=True\n",
    "                ),\n",
    "                                html.Br(),\n",
    "\n",
    "                                # TASK 2: Add a pie chart to show the total successful launches count for all sites\n",
    "                                # If a specific launch site was selected, show the Success vs. Failed counts for the site\n",
    "                                html.Div(dcc.Graph(id='success-pie-chart')),\n",
    "                                html.Br(),\n",
    "\n",
    "                                html.P(\"Payload range (Kg):\"),\n",
    "                                # TASK 3: Add a slider to select payload range\n",
    "                                dcc.RangeSlider(id='payload-slider',\n",
    "                                                min=0, max=10000, step=1000,\n",
    "                                                marks={0: '0', 2000: '2000', 4000: '4000', 6000: '6000', \n",
    "                                                       8000: '8000', 10000: '10000'},\n",
    "                                                value=[min_payload, max_payload]),\n",
    "\n",
    "                                # TASK 4: Add a scatter chart to show the correlation between payload and launch success\n",
    "                                html.Div(dcc.Graph(id='success-payload-scatter-chart')),\n",
    "                                ])"
   ]
  },
  {
   "cell_type": "code",
   "execution_count": 114,
   "id": "1a53cec0-a2fc-46d9-8308-947b9c6cc2b8",
   "metadata": {},
   "outputs": [],
   "source": [
    "# TASK 2:\n",
    "# Add a callback function for `site-dropdown` as input, `success-pie-chart` as output\n",
    "# Function decorator to specify function input and output\n",
    "@app.callback(Output(component_id='success-pie-chart', component_property='figure'),\n",
    "              Input(component_id='site-dropdown', component_property='value'))\n",
    "def get_pie_chart(entered_site):\n",
    "    filtered_df = spacex_df\n",
    "    if entered_site == 'ALL':\n",
    "        fig = px.pie(spacex_df, values='class', \n",
    "        names='Launch Site', \n",
    "        title='Total success launches by site')\n",
    "        return fig\n",
    "    else:\n",
    "        # return the outcomes piechart for a selected site\n",
    "        pie_df =  spacex_df[spacex_df['Launch Site']==entered_site]\n",
    "        success_count = sum(pie_df['class'] == 1)\n",
    "        failure_count = sum(pie_df['class'] == 0)\n",
    "        fig = px.pie(pie_df, values= [success_count, failure_count],\n",
    "                     names=['Success', 'Failure'],\n",
    "                     category_orders={\"names\": [\"Success\", \"Failure\"]},\n",
    "                     title=f'Total success launches for site {entered_site}')\n",
    "        return fig"
   ]
  },
  {
   "cell_type": "code",
   "execution_count": 115,
   "id": "0c55d3fb-f0ff-4e70-92ce-f162c3cddd5d",
   "metadata": {},
   "outputs": [],
   "source": [
    "# TASK 4:\n",
    "# Add a callback function for `site-dropdown` and `payload-slider` as inputs, `success-payload-scatter-chart` as output\n",
    "# Function decorator to specify function input and output\n",
    "@app.callback(Output(component_id='success-payload-scatter-chart', component_property='figure'),\n",
    "              [Input(component_id='site-dropdown', component_property='value'), \n",
    "               Input(component_id=\"payload-slider\", component_property=\"value\")])\n",
    "def get_scatter(site, load):\n",
    "    load_df = spacex_df[(spacex_df['Payload Mass (kg)'] > min(load)) & (spacex_df['Payload Mass (kg)'] < max(load))]\n",
    "    if site == 'ALL':\n",
    "        fig = px.scatter(load_df, x='Payload Mass (kg)', y='class',\n",
    "                         color=\"Booster Version Category\",\n",
    "                         title='Correlation between payload and success for all sites')\n",
    "        return fig\n",
    "    else:\n",
    "        # return the outcomes scatter plot for a selected site\n",
    "        site_df =  load_df[load_df['Launch Site']==site]\n",
    "        fig = px.scatter(site_df, x='Payload Mass (kg)', y='class',\n",
    "                         color=\"Booster Version Category\",\n",
    "                         title=f'Correlation between payload and success for site {site}')\n",
    "        return fig"
   ]
  },
  {
   "cell_type": "code",
   "execution_count": 116,
   "id": "9ed0286f-7ee4-4772-8040-b76462ecb967",
   "metadata": {},
   "outputs": [
    {
     "name": "stdout",
     "output_type": "stream",
     "text": [
      "Dash app running on http://127.0.0.1:8050/\n"
     ]
    },
    {
     "data": {
      "application/javascript": [
       "window.open('http://127.0.0.1:8050/')"
      ],
      "text/plain": [
       "<IPython.core.display.Javascript object>"
      ]
     },
     "metadata": {},
     "output_type": "display_data"
    }
   ],
   "source": [
    "# Run the app\n",
    "if __name__ == '__main__':\n",
    "    app.run(jupyter_mode=\"tab\")"
   ]
  },
  {
   "cell_type": "code",
   "execution_count": null,
   "id": "417ea758-9ad0-49bf-921f-ff891dbd09ca",
   "metadata": {},
   "outputs": [],
   "source": []
  }
 ],
 "metadata": {
  "kernelspec": {
   "display_name": "Python 3 (ipykernel)",
   "language": "python",
   "name": "python3"
  },
  "language_info": {
   "codemirror_mode": {
    "name": "ipython",
    "version": 3
   },
   "file_extension": ".py",
   "mimetype": "text/x-python",
   "name": "python",
   "nbconvert_exporter": "python",
   "pygments_lexer": "ipython3",
   "version": "3.12.7"
  }
 },
 "nbformat": 4,
 "nbformat_minor": 5
}
